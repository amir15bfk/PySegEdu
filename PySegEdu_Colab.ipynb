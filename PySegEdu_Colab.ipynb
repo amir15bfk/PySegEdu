{
  "cells": [
    {
      "cell_type": "code",
      "execution_count": 9,
      "metadata": {
        "colab": {
          "base_uri": "https://localhost:8080/"
        },
        "id": "OlAOnfYx-JUa",
        "outputId": "54ca2c58-4316-404c-9a4d-ff79a902e014"
      },
      "outputs": [
        {
          "name": "stdout",
          "output_type": "stream",
          "text": [
            "fatal: destination path 'PySegEdu' already exists and is not an empty directory.\n"
          ]
        }
      ],
      "source": [
        "!git clone https://github.com/amir15bfk/PySegEdu.git # change it with your repo link if you want to edit in your local machine"
      ]
    },
    {
      "cell_type": "code",
      "execution_count": 2,
      "metadata": {
        "colab": {
          "base_uri": "https://localhost:8080/"
        },
        "id": "gm9UCmADS1PY",
        "outputId": "d6074e24-25a1-4d0a-8c5a-135300f6a315"
      },
      "outputs": [
        {
          "name": "stdout",
          "output_type": "stream",
          "text": [
            "Collecting timm==1.0.3 (from -r PySegEdu/requirements.txt (line 1))\n",
            "  Downloading timm-1.0.3-py3-none-any.whl (2.3 MB)\n",
            "\u001b[2K     \u001b[90m━━━━━━━━━━━━━━━━━━━━━━━━━━━━━━━━━━━━━━━━\u001b[0m \u001b[32m2.3/2.3 MB\u001b[0m \u001b[31m12.4 MB/s\u001b[0m eta \u001b[36m0:00:00\u001b[0m\n",
            "\u001b[?25hCollecting patool==2.2.0 (from -r PySegEdu/requirements.txt (line 2))\n",
            "  Downloading patool-2.2.0-py2.py3-none-any.whl (96 kB)\n",
            "\u001b[2K     \u001b[90m━━━━━━━━━━━━━━━━━━━━━━━━━━━━━━━━━━━━━━━━\u001b[0m \u001b[32m96.0/96.0 kB\u001b[0m \u001b[31m14.0 MB/s\u001b[0m eta \u001b[36m0:00:00\u001b[0m\n",
            "\u001b[?25hCollecting unrar==0.4 (from -r PySegEdu/requirements.txt (line 3))\n",
            "  Downloading unrar-0.4-py3-none-any.whl (25 kB)\n",
            "Requirement already satisfied: torch in /usr/local/lib/python3.10/dist-packages (from timm==1.0.3->-r PySegEdu/requirements.txt (line 1)) (2.3.0+cu121)\n",
            "Requirement already satisfied: torchvision in /usr/local/lib/python3.10/dist-packages (from timm==1.0.3->-r PySegEdu/requirements.txt (line 1)) (0.18.0+cu121)\n",
            "Requirement already satisfied: pyyaml in /usr/local/lib/python3.10/dist-packages (from timm==1.0.3->-r PySegEdu/requirements.txt (line 1)) (6.0.1)\n",
            "Requirement already satisfied: huggingface_hub in /usr/local/lib/python3.10/dist-packages (from timm==1.0.3->-r PySegEdu/requirements.txt (line 1)) (0.23.4)\n",
            "Requirement already satisfied: safetensors in /usr/local/lib/python3.10/dist-packages (from timm==1.0.3->-r PySegEdu/requirements.txt (line 1)) (0.4.3)\n",
            "Requirement already satisfied: filelock in /usr/local/lib/python3.10/dist-packages (from huggingface_hub->timm==1.0.3->-r PySegEdu/requirements.txt (line 1)) (3.15.1)\n",
            "Requirement already satisfied: fsspec>=2023.5.0 in /usr/local/lib/python3.10/dist-packages (from huggingface_hub->timm==1.0.3->-r PySegEdu/requirements.txt (line 1)) (2023.6.0)\n",
            "Requirement already satisfied: packaging>=20.9 in /usr/local/lib/python3.10/dist-packages (from huggingface_hub->timm==1.0.3->-r PySegEdu/requirements.txt (line 1)) (24.1)\n",
            "Requirement already satisfied: requests in /usr/local/lib/python3.10/dist-packages (from huggingface_hub->timm==1.0.3->-r PySegEdu/requirements.txt (line 1)) (2.31.0)\n",
            "Requirement already satisfied: tqdm>=4.42.1 in /usr/local/lib/python3.10/dist-packages (from huggingface_hub->timm==1.0.3->-r PySegEdu/requirements.txt (line 1)) (4.66.4)\n",
            "Requirement already satisfied: typing-extensions>=3.7.4.3 in /usr/local/lib/python3.10/dist-packages (from huggingface_hub->timm==1.0.3->-r PySegEdu/requirements.txt (line 1)) (4.12.2)\n",
            "Requirement already satisfied: sympy in /usr/local/lib/python3.10/dist-packages (from torch->timm==1.0.3->-r PySegEdu/requirements.txt (line 1)) (1.12.1)\n",
            "Requirement already satisfied: networkx in /usr/local/lib/python3.10/dist-packages (from torch->timm==1.0.3->-r PySegEdu/requirements.txt (line 1)) (3.3)\n",
            "Requirement already satisfied: jinja2 in /usr/local/lib/python3.10/dist-packages (from torch->timm==1.0.3->-r PySegEdu/requirements.txt (line 1)) (3.1.4)\n",
            "Collecting nvidia-cuda-nvrtc-cu12==12.1.105 (from torch->timm==1.0.3->-r PySegEdu/requirements.txt (line 1))\n",
            "  Using cached nvidia_cuda_nvrtc_cu12-12.1.105-py3-none-manylinux1_x86_64.whl (23.7 MB)\n",
            "Collecting nvidia-cuda-runtime-cu12==12.1.105 (from torch->timm==1.0.3->-r PySegEdu/requirements.txt (line 1))\n",
            "  Using cached nvidia_cuda_runtime_cu12-12.1.105-py3-none-manylinux1_x86_64.whl (823 kB)\n",
            "Collecting nvidia-cuda-cupti-cu12==12.1.105 (from torch->timm==1.0.3->-r PySegEdu/requirements.txt (line 1))\n",
            "  Using cached nvidia_cuda_cupti_cu12-12.1.105-py3-none-manylinux1_x86_64.whl (14.1 MB)\n",
            "Collecting nvidia-cudnn-cu12==8.9.2.26 (from torch->timm==1.0.3->-r PySegEdu/requirements.txt (line 1))\n",
            "  Using cached nvidia_cudnn_cu12-8.9.2.26-py3-none-manylinux1_x86_64.whl (731.7 MB)\n",
            "Collecting nvidia-cublas-cu12==12.1.3.1 (from torch->timm==1.0.3->-r PySegEdu/requirements.txt (line 1))\n",
            "  Using cached nvidia_cublas_cu12-12.1.3.1-py3-none-manylinux1_x86_64.whl (410.6 MB)\n",
            "Collecting nvidia-cufft-cu12==11.0.2.54 (from torch->timm==1.0.3->-r PySegEdu/requirements.txt (line 1))\n",
            "  Using cached nvidia_cufft_cu12-11.0.2.54-py3-none-manylinux1_x86_64.whl (121.6 MB)\n",
            "Collecting nvidia-curand-cu12==10.3.2.106 (from torch->timm==1.0.3->-r PySegEdu/requirements.txt (line 1))\n",
            "  Using cached nvidia_curand_cu12-10.3.2.106-py3-none-manylinux1_x86_64.whl (56.5 MB)\n",
            "Collecting nvidia-cusolver-cu12==11.4.5.107 (from torch->timm==1.0.3->-r PySegEdu/requirements.txt (line 1))\n",
            "  Using cached nvidia_cusolver_cu12-11.4.5.107-py3-none-manylinux1_x86_64.whl (124.2 MB)\n",
            "Collecting nvidia-cusparse-cu12==12.1.0.106 (from torch->timm==1.0.3->-r PySegEdu/requirements.txt (line 1))\n",
            "  Using cached nvidia_cusparse_cu12-12.1.0.106-py3-none-manylinux1_x86_64.whl (196.0 MB)\n",
            "Collecting nvidia-nccl-cu12==2.20.5 (from torch->timm==1.0.3->-r PySegEdu/requirements.txt (line 1))\n",
            "  Using cached nvidia_nccl_cu12-2.20.5-py3-none-manylinux2014_x86_64.whl (176.2 MB)\n",
            "Collecting nvidia-nvtx-cu12==12.1.105 (from torch->timm==1.0.3->-r PySegEdu/requirements.txt (line 1))\n",
            "  Using cached nvidia_nvtx_cu12-12.1.105-py3-none-manylinux1_x86_64.whl (99 kB)\n",
            "Requirement already satisfied: triton==2.3.0 in /usr/local/lib/python3.10/dist-packages (from torch->timm==1.0.3->-r PySegEdu/requirements.txt (line 1)) (2.3.0)\n",
            "Collecting nvidia-nvjitlink-cu12 (from nvidia-cusolver-cu12==11.4.5.107->torch->timm==1.0.3->-r PySegEdu/requirements.txt (line 1))\n",
            "  Downloading nvidia_nvjitlink_cu12-12.5.40-py3-none-manylinux2014_x86_64.whl (21.3 MB)\n",
            "\u001b[2K     \u001b[90m━━━━━━━━━━━━━━━━━━━━━━━━━━━━━━━━━━━━━━━━\u001b[0m \u001b[32m21.3/21.3 MB\u001b[0m \u001b[31m62.5 MB/s\u001b[0m eta \u001b[36m0:00:00\u001b[0m\n",
            "\u001b[?25hRequirement already satisfied: numpy in /usr/local/lib/python3.10/dist-packages (from torchvision->timm==1.0.3->-r PySegEdu/requirements.txt (line 1)) (1.25.2)\n",
            "Requirement already satisfied: pillow!=8.3.*,>=5.3.0 in /usr/local/lib/python3.10/dist-packages (from torchvision->timm==1.0.3->-r PySegEdu/requirements.txt (line 1)) (9.4.0)\n",
            "Requirement already satisfied: MarkupSafe>=2.0 in /usr/local/lib/python3.10/dist-packages (from jinja2->torch->timm==1.0.3->-r PySegEdu/requirements.txt (line 1)) (2.1.5)\n",
            "Requirement already satisfied: charset-normalizer<4,>=2 in /usr/local/lib/python3.10/dist-packages (from requests->huggingface_hub->timm==1.0.3->-r PySegEdu/requirements.txt (line 1)) (3.3.2)\n",
            "Requirement already satisfied: idna<4,>=2.5 in /usr/local/lib/python3.10/dist-packages (from requests->huggingface_hub->timm==1.0.3->-r PySegEdu/requirements.txt (line 1)) (3.7)\n",
            "Requirement already satisfied: urllib3<3,>=1.21.1 in /usr/local/lib/python3.10/dist-packages (from requests->huggingface_hub->timm==1.0.3->-r PySegEdu/requirements.txt (line 1)) (2.0.7)\n",
            "Requirement already satisfied: certifi>=2017.4.17 in /usr/local/lib/python3.10/dist-packages (from requests->huggingface_hub->timm==1.0.3->-r PySegEdu/requirements.txt (line 1)) (2024.6.2)\n",
            "Requirement already satisfied: mpmath<1.4.0,>=1.1.0 in /usr/local/lib/python3.10/dist-packages (from sympy->torch->timm==1.0.3->-r PySegEdu/requirements.txt (line 1)) (1.3.0)\n",
            "Installing collected packages: unrar, patool, nvidia-nvtx-cu12, nvidia-nvjitlink-cu12, nvidia-nccl-cu12, nvidia-curand-cu12, nvidia-cufft-cu12, nvidia-cuda-runtime-cu12, nvidia-cuda-nvrtc-cu12, nvidia-cuda-cupti-cu12, nvidia-cublas-cu12, nvidia-cusparse-cu12, nvidia-cudnn-cu12, nvidia-cusolver-cu12, timm\n",
            "Successfully installed nvidia-cublas-cu12-12.1.3.1 nvidia-cuda-cupti-cu12-12.1.105 nvidia-cuda-nvrtc-cu12-12.1.105 nvidia-cuda-runtime-cu12-12.1.105 nvidia-cudnn-cu12-8.9.2.26 nvidia-cufft-cu12-11.0.2.54 nvidia-curand-cu12-10.3.2.106 nvidia-cusolver-cu12-11.4.5.107 nvidia-cusparse-cu12-12.1.0.106 nvidia-nccl-cu12-2.20.5 nvidia-nvjitlink-cu12-12.5.40 nvidia-nvtx-cu12-12.1.105 patool-2.2.0 timm-1.0.3 unrar-0.4\n"
          ]
        }
      ],
      "source": [
        "!pip install -r PySegEdu/requirements.txt"
      ]
    },
    {
      "cell_type": "markdown",
      "metadata": {
        "id": "I2aewLeoVAOI"
      },
      "source": [
        "# Update\n",
        "\n",
        "if you want to configue your project in your local machine :\n",
        "- fork the project on github (https://github.com/amir15bfk/PySegEdu)\n",
        "- clone it to your pc\n",
        "- edit and push\n",
        "- clone your project to this colab instance insted of the original repo\n",
        "- after any change you push it\n",
        "- pull it using this cell\n"
      ]
    },
    {
      "cell_type": "code",
      "execution_count": 10,
      "metadata": {
        "colab": {
          "base_uri": "https://localhost:8080/"
        },
        "id": "fLRlwgCbA5hE",
        "outputId": "5457b9b0-a39f-40d4-be84-a8f4539cc50d"
      },
      "outputs": [
        {
          "name": "stdout",
          "output_type": "stream",
          "text": [
            "remote: Enumerating objects: 51, done.\u001b[K\n",
            "remote: Counting objects:   2% (1/37)\u001b[K\rremote: Counting objects:   5% (2/37)\u001b[K\rremote: Counting objects:   8% (3/37)\u001b[K\rremote: Counting objects:  10% (4/37)\u001b[K\rremote: Counting objects:  13% (5/37)\u001b[K\rremote: Counting objects:  16% (6/37)\u001b[K\rremote: Counting objects:  18% (7/37)\u001b[K\rremote: Counting objects:  21% (8/37)\u001b[K\rremote: Counting objects:  24% (9/37)\u001b[K\rremote: Counting objects:  27% (10/37)\u001b[K\rremote: Counting objects:  29% (11/37)\u001b[K\rremote: Counting objects:  32% (12/37)\u001b[K\rremote: Counting objects:  35% (13/37)\u001b[K\rremote: Counting objects:  37% (14/37)\u001b[K\rremote: Counting objects:  40% (15/37)\u001b[K\rremote: Counting objects:  43% (16/37)\u001b[K\rremote: Counting objects:  45% (17/37)\u001b[K\rremote: Counting objects:  48% (18/37)\u001b[K\rremote: Counting objects:  51% (19/37)\u001b[K\rremote: Counting objects:  54% (20/37)\u001b[K\rremote: Counting objects:  56% (21/37)\u001b[K\rremote: Counting objects:  59% (22/37)\u001b[K\rremote: Counting objects:  62% (23/37)\u001b[K\rremote: Counting objects:  64% (24/37)\u001b[K\rremote: Counting objects:  67% (25/37)\u001b[K\rremote: Counting objects:  70% (26/37)\u001b[K\rremote: Counting objects:  72% (27/37)\u001b[K\rremote: Counting objects:  75% (28/37)\u001b[K\rremote: Counting objects:  78% (29/37)\u001b[K\rremote: Counting objects:  81% (30/37)\u001b[K\rremote: Counting objects:  83% (31/37)\u001b[K\rremote: Counting objects:  86% (32/37)\u001b[K\rremote: Counting objects:  89% (33/37)\u001b[K\rremote: Counting objects:  91% (34/37)\u001b[K\rremote: Counting objects:  94% (35/37)\u001b[K\rremote: Counting objects:  97% (36/37)\u001b[K\rremote: Counting objects: 100% (37/37)\u001b[K\rremote: Counting objects: 100% (37/37), done.\u001b[K\n",
            "remote: Compressing objects:  11% (1/9)\u001b[K\rremote: Compressing objects:  22% (2/9)\u001b[K\rremote: Compressing objects:  33% (3/9)\u001b[K\rremote: Compressing objects:  44% (4/9)\u001b[K\rremote: Compressing objects:  55% (5/9)\u001b[K\rremote: Compressing objects:  66% (6/9)\u001b[K\rremote: Compressing objects:  77% (7/9)\u001b[K\rremote: Compressing objects:  88% (8/9)\u001b[K\rremote: Compressing objects: 100% (9/9)\u001b[K\rremote: Compressing objects: 100% (9/9), done.\u001b[K\n",
            "remote: Total 21 (delta 10), reused 21 (delta 10), pack-reused 0\u001b[K\n",
            "Unpacking objects:   4% (1/21)\rUnpacking objects:   9% (2/21)\rUnpacking objects:  14% (3/21)\rUnpacking objects:  19% (4/21)\rUnpacking objects:  23% (5/21)\rUnpacking objects:  28% (6/21)\rUnpacking objects:  33% (7/21)\rUnpacking objects:  38% (8/21)\rUnpacking objects:  42% (9/21)\rUnpacking objects:  47% (10/21)\rUnpacking objects:  52% (11/21)\rUnpacking objects:  57% (12/21)\rUnpacking objects:  61% (13/21)\rUnpacking objects:  66% (14/21)\rUnpacking objects:  71% (15/21)\rUnpacking objects:  76% (16/21)\rUnpacking objects:  80% (17/21)\rUnpacking objects:  85% (18/21)\rUnpacking objects:  90% (19/21)\rUnpacking objects:  95% (20/21)\rUnpacking objects: 100% (21/21)\rUnpacking objects: 100% (21/21), 7.27 KiB | 1.04 MiB/s, done.\n",
            "From https://github.com/amir15bfk/PySegEdu\n",
            "   b4abbb5..dd53f5e  main       -> origin/main\n",
            "Updating b4abbb5..dd53f5e\n",
            "Fast-forward\n",
            " .gitignore                       |   3 \u001b[32m++\u001b[m\n",
            " README.md                        | 169 \u001b[32m++++++++++++++++++++++++++++++++++++++++++++++++++++++++++\u001b[m\u001b[31m-\u001b[m\n",
            " datasets/dataloaders.py          |  49 \u001b[32m+++++++++++++++\u001b[m\u001b[31m--\u001b[m\n",
            " datasets/datasets.py             |  48 \u001b[32m++\u001b[m\u001b[31m---------------\u001b[m\n",
            " dice_score_comparison.html       |  61 \u001b[31m---------------------\u001b[m\n",
            " experiments/experiment_runner.py |   2 \u001b[32m+\u001b[m\u001b[31m-\u001b[m\n",
            " experiments/one_vs_history.py    |   2 \u001b[32m+\u001b[m\n",
            " main2.py                         |  96 \u001b[31m---------------------------------\u001b[m\n",
            " requirements.txt                 |   3 \u001b[32m+\u001b[m\u001b[31m-\u001b[m\n",
            " time_comparison.html             |  61 \u001b[31m---------------------\u001b[m\n",
            " utils/download.py                |  41 \u001b[32m++++++++++++++\u001b[m\u001b[31m-\u001b[m\n",
            " utils/losses.py                  |   2 \u001b[32m+\u001b[m\n",
            " utils/metrics.py                 |  93 \u001b[32m+++++++++++++++++++++++++++++++\u001b[m\u001b[31m-\u001b[m\n",
            " utils/visualizations.py          |  16 \u001b[32m++++\u001b[m\u001b[31m--\u001b[m\n",
            " 14 files changed, 370 insertions(+), 276 deletions(-)\n",
            " delete mode 100644 dice_score_comparison.html\n",
            " delete mode 100644 main2.py\n",
            " delete mode 100644 time_comparison.html\n"
          ]
        }
      ],
      "source": [
        "!cd PySegEdu && git pull"
      ]
    },
    {
      "cell_type": "markdown",
      "metadata": {
        "id": "AGRh5_-PTx1h"
      },
      "source": [
        "# Edit The Experiment Configuration\n",
        "by editing /content/PySegEdu/main.py and save"
      ]
    },
    {
      "cell_type": "code",
      "execution_count": 11,
      "metadata": {
        "colab": {
          "base_uri": "https://localhost:8080/"
        },
        "id": "mw5_BBITXd23",
        "outputId": "1714cff9-d393-4271-b0b4-f6eef53b9b3d"
      },
      "outputs": [
        {
          "name": "stdout",
          "output_type": "stream",
          "text": [
            "import warnings\n",
            "warnings.filterwarnings(\"ignore\", category=UserWarning)\n",
            "import multiprocessing\n",
            "multiprocessing.freeze_support()\n",
            "from experiments.experiment_runner import SegmentationExperiment\n",
            "from utils import download\n",
            "from models import fcn,duck_net, unet,fcbformer,doubleunet\n",
            "\n",
            "\n",
            "# download.download()\n",
            "\n",
            "model = unet.Unet()\n",
            "\n",
            "\n",
            "experiment = SegmentationExperiment(\n",
            "    exp_name = \"352 1ep\",\n",
            "    dataset = \"B\",\n",
            "    model = model,\n",
            "    load = False,\n",
            "    model_source = \"Trained_models/Unet_B_352 100ep_last.pt\",\n",
            "    root=\"./data\",\n",
            "    size = (352,352),\n",
            "    epochs=1,\n",
            "    batch_size=4,\n",
            "    num_workers = 0,\n",
            "    lr=1e-4,#1-4\n",
            "    lrs=True,#true\n",
            "    lrs_min=1e-6,\n",
            "    mgpu=False,\n",
            "    seed = 42\n",
            "    )\n",
            "experiment.run_experiment()\n",
            "experiment.report(plot=True)\n",
            "\n"
          ]
        }
      ],
      "source": [
        "!cat PySegEdu/main.py"
      ]
    },
    {
      "cell_type": "markdown",
      "metadata": {},
      "source": [
        "# download the data"
      ]
    },
    {
      "cell_type": "code",
      "execution_count": null,
      "metadata": {},
      "outputs": [],
      "source": [
        "!python PySegEdu/utils/download.py"
      ]
    },
    {
      "cell_type": "markdown",
      "metadata": {
        "id": "PC9r1MH6TTD9"
      },
      "source": [
        "# RUN"
      ]
    },
    {
      "cell_type": "code",
      "execution_count": null,
      "metadata": {
        "colab": {
          "base_uri": "https://localhost:8080/"
        },
        "id": "p29jdokt-Q8M",
        "outputId": "c9c79a8c-3f35-4878-d4b2-e53e5af28d04"
      },
      "outputs": [
        {
          "name": "stdout",
          "output_type": "stream",
          "text": [
            "Train Epoch: 1 [660/1290 (51.2%)]\tLoss: 0.591683\tTime: 210.515485"
          ]
        }
      ],
      "source": [
        "!python PySegEdu/main.py"
      ]
    }
  ],
  "metadata": {
    "accelerator": "GPU",
    "colab": {
      "gpuType": "T4",
      "provenance": []
    },
    "kernelspec": {
      "display_name": "Python 3",
      "name": "python3"
    },
    "language_info": {
      "name": "python"
    }
  },
  "nbformat": 4,
  "nbformat_minor": 0
}
